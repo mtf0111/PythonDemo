{
 "cells": [
  {
   "cell_type": "markdown",
   "id": "4979c654",
   "metadata": {
    "toc": true
   },
   "source": [
    "<h1>深入浅出Python机器学习<span class=\"tocSkip\"></span></h1>\n",
    "<div class=\"toc\"><ul class=\"toc-item\"><li><span><a href=\"#机器学习概述\" data-toc-modified-id=\"机器学习概述-1\"><span class=\"toc-item-num\">1&nbsp;&nbsp;</span>机器学习概述</a></span><ul class=\"toc-item\"><li><span><a href=\"#什么是机器学习\" data-toc-modified-id=\"什么是机器学习-1.1\"><span class=\"toc-item-num\">1.1&nbsp;&nbsp;</span>什么是机器学习</a></span></li><li><span><a href=\"#应用场景\" data-toc-modified-id=\"应用场景-1.2\"><span class=\"toc-item-num\">1.2&nbsp;&nbsp;</span>应用场景</a></span></li><li><span><a href=\"#机器学习入门\" data-toc-modified-id=\"机器学习入门-1.3\"><span class=\"toc-item-num\">1.3&nbsp;&nbsp;</span>机器学习入门</a></span><ul class=\"toc-item\"><li><span><a href=\"#从一种编程语言开始\" data-toc-modified-id=\"从一种编程语言开始-1.3.1\"><span class=\"toc-item-num\">1.3.1&nbsp;&nbsp;</span>从一种编程语言开始</a></span></li><li><span><a href=\"#熟悉机器学习中的基本概念\" data-toc-modified-id=\"熟悉机器学习中的基本概念-1.3.2\"><span class=\"toc-item-num\">1.3.2&nbsp;&nbsp;</span>熟悉机器学习中的基本概念</a></span></li><li><span><a href=\"#了解机器学习中最常见的算法\" data-toc-modified-id=\"了解机器学习中最常见的算法-1.3.3\"><span class=\"toc-item-num\">1.3.3&nbsp;&nbsp;</span>了解机器学习中最常见的算法</a></span></li><li><span><a href=\"#掌握对数据进行处理的技巧\" data-toc-modified-id=\"掌握对数据进行处理的技巧-1.3.4\"><span class=\"toc-item-num\">1.3.4&nbsp;&nbsp;</span>掌握对数据进行处理的技巧</a></span></li></ul></li><li><span><a href=\"#有监督学习和无监督学习\" data-toc-modified-id=\"有监督学习和无监督学习-1.4\"><span class=\"toc-item-num\">1.4&nbsp;&nbsp;</span>有监督学习和无监督学习</a></span><ul class=\"toc-item\"><li><span><a href=\"#有监督学习\" data-toc-modified-id=\"有监督学习-1.4.1\"><span class=\"toc-item-num\">1.4.1&nbsp;&nbsp;</span>有监督学习</a></span></li><li><span><a href=\"#无监督学习\" data-toc-modified-id=\"无监督学习-1.4.2\"><span class=\"toc-item-num\">1.4.2&nbsp;&nbsp;</span>无监督学习</a></span><ul class=\"toc-item\"><li><span><a href=\"#数据转换\" data-toc-modified-id=\"数据转换-1.4.2.1\"><span class=\"toc-item-num\">1.4.2.1&nbsp;&nbsp;</span>数据转换</a></span></li><li><span><a href=\"#聚类分析\" data-toc-modified-id=\"聚类分析-1.4.2.2\"><span class=\"toc-item-num\">1.4.2.2&nbsp;&nbsp;</span>聚类分析</a></span></li></ul></li></ul></li><li><span><a href=\"#机器学习中的分类与回归\" data-toc-modified-id=\"机器学习中的分类与回归-1.5\"><span class=\"toc-item-num\">1.5&nbsp;&nbsp;</span>机器学习中的分类与回归</a></span></li><li><span><a href=\"#模型的泛化-过拟合和欠拟合\" data-toc-modified-id=\"模型的泛化-过拟合和欠拟合-1.6\"><span class=\"toc-item-num\">1.6&nbsp;&nbsp;</span>模型的泛化 过拟合和欠拟合</a></span></li></ul></li><li><span><a href=\"#环境搭建\" data-toc-modified-id=\"环境搭建-2\"><span class=\"toc-item-num\">2&nbsp;&nbsp;</span>环境搭建</a></span><ul class=\"toc-item\"><li><span><a href=\"#Python下载安装\" data-toc-modified-id=\"Python下载安装-2.1\"><span class=\"toc-item-num\">2.1&nbsp;&nbsp;</span>Python下载安装</a></span></li><li><span><a href=\"#Jupyter-Notebook-安装\" data-toc-modified-id=\"Jupyter-Notebook-安装-2.2\"><span class=\"toc-item-num\">2.2&nbsp;&nbsp;</span>Jupyter Notebook 安装</a></span></li><li><span><a href=\"#Numpy-+-MKL-和-Scipy-库\" data-toc-modified-id=\"Numpy-+-MKL-和-Scipy-库-2.3\"><span class=\"toc-item-num\">2.3&nbsp;&nbsp;</span>Numpy + MKL 和 Scipy 库</a></span></li><li><span><a href=\"#Pandas-和-Matplotlib-安装\" data-toc-modified-id=\"Pandas-和-Matplotlib-安装-2.4\"><span class=\"toc-item-num\">2.4&nbsp;&nbsp;</span>Pandas 和 Matplotlib 安装</a></span></li><li><span><a href=\"#scikit-learn-下载-安装\" data-toc-modified-id=\"scikit-learn-下载-安装-2.5\"><span class=\"toc-item-num\">2.5&nbsp;&nbsp;</span>scikit-learn 下载 安装</a></span></li></ul></li><li><span><a href=\"#K最近邻算法\" data-toc-modified-id=\"K最近邻算法-3\"><span class=\"toc-item-num\">3&nbsp;&nbsp;</span>K最近邻算法</a></span><ul class=\"toc-item\"><li><span><a href=\"#K最近邻算法原理\" data-toc-modified-id=\"K最近邻算法原理-3.1\"><span class=\"toc-item-num\">3.1&nbsp;&nbsp;</span>K最近邻算法原理</a></span></li><li><span><a href=\"#K最近邻算法的应用\" data-toc-modified-id=\"K最近邻算法的应用-3.2\"><span class=\"toc-item-num\">3.2&nbsp;&nbsp;</span>K最近邻算法的应用</a></span><ul class=\"toc-item\"><li><span><a href=\"#K最近邻算法在分类任务中的应用\" data-toc-modified-id=\"K最近邻算法在分类任务中的应用-3.2.1\"><span class=\"toc-item-num\">3.2.1&nbsp;&nbsp;</span>K最近邻算法在分类任务中的应用</a></span></li><li><span><a href=\"#K最近邻算法处理多元分类任务\" data-toc-modified-id=\"K最近邻算法处理多元分类任务-3.2.2\"><span class=\"toc-item-num\">3.2.2&nbsp;&nbsp;</span>K最近邻算法处理多元分类任务</a></span></li><li><span><a href=\"#K最近邻算法用于回归\" data-toc-modified-id=\"K最近邻算法用于回归-3.2.3\"><span class=\"toc-item-num\">3.2.3&nbsp;&nbsp;</span>K最近邻算法用于回归</a></span></li></ul></li><li><span><a href=\"#K最近邻算法实战\" data-toc-modified-id=\"K最近邻算法实战-3.3\"><span class=\"toc-item-num\">3.3&nbsp;&nbsp;</span>K最近邻算法实战</a></span><ul class=\"toc-item\"><li><span><a href=\"#分析数据集\" data-toc-modified-id=\"分析数据集-3.3.1\"><span class=\"toc-item-num\">3.3.1&nbsp;&nbsp;</span>分析数据集</a></span></li><li><span><a href=\"#生成训练数据集和测试数据集\" data-toc-modified-id=\"生成训练数据集和测试数据集-3.3.2\"><span class=\"toc-item-num\">3.3.2&nbsp;&nbsp;</span>生成训练数据集和测试数据集</a></span></li><li><span><a href=\"#使用K最近邻算法进行建模\" data-toc-modified-id=\"使用K最近邻算法进行建模-3.3.3\"><span class=\"toc-item-num\">3.3.3&nbsp;&nbsp;</span>使用K最近邻算法进行建模</a></span></li><li><span><a href=\"#使用模型对新样本进行预测\" data-toc-modified-id=\"使用模型对新样本进行预测-3.3.4\"><span class=\"toc-item-num\">3.3.4&nbsp;&nbsp;</span>使用模型对新样本进行预测</a></span></li></ul></li></ul></li><li><span><a href=\"#广义线性模型\" data-toc-modified-id=\"广义线性模型-4\"><span class=\"toc-item-num\">4&nbsp;&nbsp;</span>广义线性模型</a></span><ul class=\"toc-item\"><li><span><a href=\"#线性模型的基本概念\" data-toc-modified-id=\"线性模型的基本概念-4.1\"><span class=\"toc-item-num\">4.1&nbsp;&nbsp;</span>线性模型的基本概念</a></span><ul class=\"toc-item\"><li><span><a href=\"#线性模型的一般公式\" data-toc-modified-id=\"线性模型的一般公式-4.1.1\"><span class=\"toc-item-num\">4.1.1&nbsp;&nbsp;</span>线性模型的一般公式</a></span></li><li><span><a href=\"#线性模型的图形表示\" data-toc-modified-id=\"线性模型的图形表示-4.1.2\"><span class=\"toc-item-num\">4.1.2&nbsp;&nbsp;</span>线性模型的图形表示</a></span></li><li><span><a href=\"#线性模型的特点\" data-toc-modified-id=\"线性模型的特点-4.1.3\"><span class=\"toc-item-num\">4.1.3&nbsp;&nbsp;</span>线性模型的特点</a></span></li></ul></li><li><span><a href=\"#最基本的线性模型---线性回归-LinearRegresson\" data-toc-modified-id=\"最基本的线性模型---线性回归-LinearRegresson-4.2\"><span class=\"toc-item-num\">4.2&nbsp;&nbsp;</span>最基本的线性模型 - 线性回归 LinearRegresson</a></span><ul class=\"toc-item\"><li><span><a href=\"#线性回归的基本原理\" data-toc-modified-id=\"线性回归的基本原理-4.2.1\"><span class=\"toc-item-num\">4.2.1&nbsp;&nbsp;</span>线性回归的基本原理</a></span></li><li><span><a href=\"#线性回归的性能表现\" data-toc-modified-id=\"线性回归的性能表现-4.2.2\"><span class=\"toc-item-num\">4.2.2&nbsp;&nbsp;</span>线性回归的性能表现</a></span></li></ul></li><li><span><a href=\"#使用L2正则化的线性模型---岭回归-Ridge\" data-toc-modified-id=\"使用L2正则化的线性模型---岭回归-Ridge-4.3\"><span class=\"toc-item-num\">4.3&nbsp;&nbsp;</span>使用L2正则化的线性模型 - 岭回归 Ridge</a></span><ul class=\"toc-item\"><li><span><a href=\"#岭回归的原理\" data-toc-modified-id=\"岭回归的原理-4.3.1\"><span class=\"toc-item-num\">4.3.1&nbsp;&nbsp;</span>岭回归的原理</a></span></li><li><span><a href=\"#岭回归的参数调节\" data-toc-modified-id=\"岭回归的参数调节-4.3.2\"><span class=\"toc-item-num\">4.3.2&nbsp;&nbsp;</span>岭回归的参数调节</a></span></li></ul></li><li><span><a href=\"#使用L1正则化的线性模型---套索回归-Lasso\" data-toc-modified-id=\"使用L1正则化的线性模型---套索回归-Lasso-4.4\"><span class=\"toc-item-num\">4.4&nbsp;&nbsp;</span>使用L1正则化的线性模型 - 套索回归 Lasso</a></span><ul class=\"toc-item\"><li><span><a href=\"#套索回归的原理\" data-toc-modified-id=\"套索回归的原理-4.4.1\"><span class=\"toc-item-num\">4.4.1&nbsp;&nbsp;</span>套索回归的原理</a></span></li><li><span><a href=\"#套索回归的参数调节\" data-toc-modified-id=\"套索回归的参数调节-4.4.2\"><span class=\"toc-item-num\">4.4.2&nbsp;&nbsp;</span>套索回归的参数调节</a></span></li><li><span><a href=\"#套索回归和岭回归的对比\" data-toc-modified-id=\"套索回归和岭回归的对比-4.4.3\"><span class=\"toc-item-num\">4.4.3&nbsp;&nbsp;</span>套索回归和岭回归的对比</a></span></li></ul></li></ul></li><li><span><a href=\"#朴素贝叶斯算法\" data-toc-modified-id=\"朴素贝叶斯算法-5\"><span class=\"toc-item-num\">5&nbsp;&nbsp;</span>朴素贝叶斯算法</a></span><ul class=\"toc-item\"><li><span><a href=\"#朴素贝叶斯的基本概念\" data-toc-modified-id=\"朴素贝叶斯的基本概念-5.1\"><span class=\"toc-item-num\">5.1&nbsp;&nbsp;</span>朴素贝叶斯的基本概念</a></span><ul class=\"toc-item\"><li><span><a href=\"#贝叶斯定理\" data-toc-modified-id=\"贝叶斯定理-5.1.1\"><span class=\"toc-item-num\">5.1.1&nbsp;&nbsp;</span>贝叶斯定理</a></span></li></ul></li></ul></li></ul></div>"
   ]
  },
  {
   "cell_type": "markdown",
   "id": "fb6d1116",
   "metadata": {},
   "source": [
    "## 机器学习概述"
   ]
  },
  {
   "cell_type": "markdown",
   "id": "85fd558b",
   "metadata": {},
   "source": [
    "### 什么是机器学习"
   ]
  },
  {
   "cell_type": "markdown",
   "id": "53306cfa",
   "metadata": {},
   "source": [
    "机器学习，在1959年被提出，本意指的是一种让计算机在不经过明显编程的情况下，对数据进行学习，并做出预测的方法，属于计算机科学领域的一个子集"
   ]
  },
  {
   "cell_type": "markdown",
   "id": "adfb82a9",
   "metadata": {},
   "source": [
    "### 应用场景"
   ]
  },
  {
   "cell_type": "markdown",
   "id": "f8673c28",
   "metadata": {},
   "source": [
    "1. 电子商务中的智能推荐\n",
    "2. 广告的精准投放\n",
    "3. 金融风控系统\n",
    "4. 文字的内容审查\n",
    "5. ...."
   ]
  },
  {
   "cell_type": "markdown",
   "id": "a207f7aa",
   "metadata": {},
   "source": [
    "### 机器学习入门"
   ]
  },
  {
   "cell_type": "markdown",
   "id": "a249fa05",
   "metadata": {},
   "source": [
    "#### 从一种编程语言开始"
   ]
  },
  {
   "cell_type": "markdown",
   "id": "4d50c035",
   "metadata": {},
   "source": [
    "学习之前需要掌握一门编程语言，如：C++ Java Python R等。\n",
    "+ 在数据科学领域，Python已经成为一门通用的编程语言，拥有非常丰富和强大的库，让Python在数据挖掘，数据可视化，图像处理，自然语言处理等领域有突出表现\n",
    "+ Python还被成为“胶水语言”，可以和其他语言编写的模块轻松连接，完全开源，语言简洁，可读性好，可扩展性高"
   ]
  },
  {
   "cell_type": "markdown",
   "id": "8323b43c",
   "metadata": {},
   "source": [
    "#### 熟悉机器学习中的基本概念"
   ]
  },
  {
   "cell_type": "markdown",
   "id": "dd6be77f",
   "metadata": {},
   "source": [
    "+ 有监督学习  无监督学习\n",
    "+ 机器学习的\"分类\"和\"回归\"\n",
    "+ 模型的 泛化 过拟合 欠拟合"
   ]
  },
  {
   "cell_type": "markdown",
   "id": "36a32402",
   "metadata": {},
   "source": [
    "#### 了解机器学习中最常见的算法"
   ]
  },
  {
   "cell_type": "markdown",
   "id": "f5554979",
   "metadata": {},
   "source": [
    "+ K最近邻算法\n",
    "+ 线性模型\n",
    "+ 朴素贝叶斯\n",
    "+ 决策树\n",
    "+ 随即森林\n",
    "+ SVMs\n",
    "+ 神经网络\n",
    "+ ...\n",
    "了解各种算法的基本原理，特性和用途，明白这些算法在数据集的表现情况，利用这些算法建模的话，模型参数的调整方法"
   ]
  },
  {
   "cell_type": "markdown",
   "id": "6e6ae27b",
   "metadata": {},
   "source": [
    "#### 掌握对数据进行处理的技巧"
   ]
  },
  {
   "cell_type": "markdown",
   "id": "ca671299",
   "metadata": {},
   "source": [
    "真实情况中数据集会很复杂，维度高，同时可能没有可用得训练数据集，这时候可能需要一些处理数据的技巧\n",
    "+ 降维\n",
    "+ 聚类\n",
    "+ ..."
   ]
  },
  {
   "cell_type": "markdown",
   "id": "10665696",
   "metadata": {},
   "source": [
    "### 有监督学习和无监督学习"
   ]
  },
  {
   "cell_type": "markdown",
   "id": "6b8ae626",
   "metadata": {},
   "source": [
    "#### 有监督学习"
   ]
  },
  {
   "cell_type": "markdown",
   "id": "9c3738e1",
   "metadata": {},
   "source": [
    "+ 有监督学习是 利用现有的训练数据集进行建模，再用模型对新的样本数据进行分类或者回归分析的方法；\n",
    "  在监督学习中，训练数据集一般包含了样本的特征变量以及分类的标签，通过不同的算法将新的样本进行分类"
   ]
  },
  {
   "cell_type": "markdown",
   "id": "e437f33c",
   "metadata": {},
   "source": [
    "#### 无监督学习"
   ]
  },
  {
   "cell_type": "markdown",
   "id": "7cedf8c1",
   "metadata": {},
   "source": [
    "+ 无监督学习，则是在没有训练数据集的情况下，对没有标签的数据进行分析并建立合适的模型，并给出问题的解决方案；\n",
    "  常见的两种任务类型：数据转换和聚类分析 "
   ]
  },
  {
   "cell_type": "markdown",
   "id": "43a5638d",
   "metadata": {},
   "source": [
    "##### 数据转换"
   ]
  },
  {
   "cell_type": "markdown",
   "id": "cc646c8a",
   "metadata": {},
   "source": [
    "数据转换的目地是把本来非常复杂的数据集通过非监督学习模式学习算法进行转换，使数据变得更加容易理解，常见的数据转换方法之一是数据降维：即通过对特征变量较多的数据集进行分析，将无关紧要的特征变量去除，保留关键的特征变量"
   ]
  },
  {
   "cell_type": "markdown",
   "id": "35f9e393",
   "metadata": {},
   "source": [
    "##### 聚类分析"
   ]
  },
  {
   "cell_type": "markdown",
   "id": "62b52b69",
   "metadata": {},
   "source": [
    "聚类算法是通过样本划归到不同的分组的算法。每个分组中的元素都有比较接近的特征，聚类算法主要应用在统计数据分析，图像分析，计算机视觉等领域。"
   ]
  },
  {
   "cell_type": "markdown",
   "id": "985ff955",
   "metadata": {},
   "source": [
    "### 机器学习中的分类与回归"
   ]
  },
  {
   "cell_type": "markdown",
   "id": "cbc01e51",
   "metadata": {},
   "source": [
    "有监督学习中最常见的两个方法：分类和回归。\n",
    "+ 分类 目的是对样本的类标签进行预测，判断样本属于哪一类，结果是离散的数值\n",
    "+ 回归 目标是预测一个连续的数值或者是范围"
   ]
  },
  {
   "cell_type": "markdown",
   "id": "9015a2bc",
   "metadata": {},
   "source": [
    "### 模型的泛化 过拟合和欠拟合"
   ]
  },
  {
   "cell_type": "markdown",
   "id": "3487541e",
   "metadata": {},
   "source": [
    "+ 泛化 在有监督学习中，通过训练数据集建立了一个模型，之后把这个模型用在新的之前从未见过的数据中，这个过程称为模型的泛化\n",
    "+ 过拟合 在使用训练数据集上使用得模型表现很好，但是在测试数据集表现很差，说明模型出现了过拟合现象\n",
    "+ 欠拟合 如果模型在训练数据集和测试数据集表现都很差，说明模型出现了欠拟合现象"
   ]
  },
  {
   "cell_type": "markdown",
   "id": "b81f54b9",
   "metadata": {},
   "source": [
    "## 环境搭建 "
   ]
  },
  {
   "cell_type": "markdown",
   "id": "8fa932fd",
   "metadata": {},
   "source": [
    "### Python下载安装"
   ]
  },
  {
   "cell_type": "markdown",
   "id": "f84db514",
   "metadata": {},
   "source": [
    "[Python官方网站](https://www.python.org/) 下载安装包安装"
   ]
  },
  {
   "cell_type": "markdown",
   "id": "38f08891",
   "metadata": {},
   "source": [
    "### Jupyter Notebook 安装"
   ]
  },
  {
   "cell_type": "code",
   "execution_count": 8,
   "id": "b3846a3d",
   "metadata": {},
   "outputs": [],
   "source": [
    "# pip 命令进行安装\n",
    "# pip install jupyter"
   ]
  },
  {
   "cell_type": "markdown",
   "id": "28ede412",
   "metadata": {},
   "source": [
    "### Numpy + MKL 和 Scipy 库"
   ]
  },
  {
   "cell_type": "markdown",
   "id": "34ec81aa",
   "metadata": {},
   "source": [
    "windows用户手动下载Numpy + MKL和Scipy的whl文件；\n",
    "在本地使用pip命令安装；\n",
    "先安装Numpy + MKL 再安装 Scipy；\n",
    "```python\n",
    "# 在文件所在目录以管理员身份打开命令行工具\n",
    "# pip install 文件全称\n",
    "pip install numpy-1.22.3+mkl-cp38-cp38-win_amd64.whl\n",
    "pip install scipy-1.8.0-cp38-cp38-win_amd64.whl\n",
    "\n",
    "```\n",
    "查找对应Python版的whl文件进行手动安装\n",
    "[下载whl文件](https://www.lfd.uci.edu/~gohlke/pythonlibs/)"
   ]
  },
  {
   "cell_type": "markdown",
   "id": "5716e3e3",
   "metadata": {},
   "source": [
    "### Pandas 和 Matplotlib 安装"
   ]
  },
  {
   "cell_type": "markdown",
   "id": "52b01b4d",
   "metadata": {},
   "source": [
    "```python\n",
    "# pip 命令安装\n",
    "pip install pandas\n",
    "pip install matplotlib\n",
    "```"
   ]
  },
  {
   "cell_type": "markdown",
   "id": "139ceba5",
   "metadata": {},
   "source": [
    "### scikit-learn 下载 安装"
   ]
  },
  {
   "cell_type": "markdown",
   "id": "35e51565",
   "metadata": {},
   "source": [
    "[sklearn下载地址](https://pypi.org/project/scikit-learn/#files)"
   ]
  },
  {
   "cell_type": "markdown",
   "id": "bc252b0c",
   "metadata": {},
   "source": [
    "## K最近邻算法"
   ]
  },
  {
   "cell_type": "markdown",
   "id": "aeb4c98e",
   "metadata": {},
   "source": [
    "### K最近邻算法原理"
   ]
  },
  {
   "cell_type": "markdown",
   "id": "e1e1c210",
   "metadata": {},
   "source": [
    "数据点的位置距离哪些数据点的位置较近就把数据点归集到哪一类当中，K是指最近邻的个数，K值通过参数n_neighbors参数来调节；数据点不仅是根据位置距离近而且根据K值个数决定，距离近而且数值多纠归集到哪一类；\n",
    "+ K最近邻算法也可以用于回归，当我们使用K最近邻算法回归计算某个数据点的预测值时，模型会选择距离该数据点最近的若干个训练数据集中的点，根据这些点的y值取平均值，并把该值得平均值作为新的数据点的预测值"
   ]
  },
  {
   "cell_type": "markdown",
   "id": "430955b4",
   "metadata": {},
   "source": [
    "### K最近邻算法的应用"
   ]
  },
  {
   "cell_type": "markdown",
   "id": "9d784e84",
   "metadata": {},
   "source": [
    "#### K最近邻算法在分类任务中的应用"
   ]
  },
  {
   "cell_type": "markdown",
   "id": "b24aa101",
   "metadata": {},
   "source": [
    "利用 make_blobs方法手动生成数据集"
   ]
  },
  {
   "cell_type": "code",
   "execution_count": 2,
   "id": "655d5be1",
   "metadata": {},
   "outputs": [
    {
     "name": "stdout",
     "output_type": "stream",
     "text": [
      "<class 'tuple'>\n",
      "(200, 2) \n",
      " (200,)\n"
     ]
    },
    {
     "data": {
      "image/png": "[encoded data removed]",
      "text/plain": [
       "<Figure size 432x288 with 1 Axes>"
      ]
     },
     "metadata": {
      "needs_background": "light"
     },
     "output_type": "display_data"
    }
   ],
   "source": [
    "# 导入数据集生成器\n",
    "from sklearn.datasets import make_blobs\n",
    "# 导入KNN分类器\n",
    "from sklearn.neighbors import KNeighborsClassifier\n",
    "# 导入画图工具\n",
    "import matplotlib.pyplot as plt\n",
    "# 导入数据集拆分工具\n",
    "from sklearn.model_selection import train_test_split\n",
    "# 生成样本数为 200 分类为 2 的数据集\n",
    "data = make_blobs(n_samples=200, centers=2, random_state=8)\n",
    "print(type(data))\n",
    "X, y = data\n",
    "print(X.shape,'\\n',y.shape)\n",
    "# 将数据集进行可视化\n",
    "plt.scatter(X[:,0], X[:,1], c=y, cmap=plt.cm.spring, edgecolor='k')\n",
    "plt.show()"
   ]
  },
  {
   "cell_type": "markdown",
   "id": "437ca86c",
   "metadata": {},
   "source": [
    "利用K最近邻算法拟合生成的数据集"
   ]
  },
  {
   "cell_type": "code",
   "execution_count": 3,
   "id": "150ed777",
   "metadata": {},
   "outputs": [
    {
     "data": {
      "image/png": "[encoded data removed]",
      "text/plain": [
       "<Figure size 432x288 with 1 Axes>"
      ]
     },
     "metadata": {
      "needs_background": "light"
     },
     "output_type": "display_data"
    },
    {
     "name": "stdout",
     "output_type": "stream",
     "text": [
      "新数据点的分类是: [0]\n"
     ]
    }
   ],
   "source": [
    "import numpy as np\n",
    "clf = KNeighborsClassifier()\n",
    "clf.fit(X,y)\n",
    "\n",
    "# 下面的代码用于画图\n",
    "x_min, x_max = X[:, 0].min() - 1, X[:, 0].max() + 1\n",
    "y_min, y_max = X[:, 1].min() - 1, X[:, 0].max() + 1\n",
    "xx, yy = np.meshgrid(np.arange(x_min, x_max, .2), np.arange(y_min, y_max, .2))\n",
    "Z = clf.predict(np.c_[xx.ravel(), yy.ravel()])\n",
    "# print(np.c_[xx.ravel(), yy.ravel()])\n",
    "# print(Z)\n",
    "Z = Z.reshape(xx.shape)\n",
    "# print(Z)\n",
    "plt.pcolormesh(xx, yy, Z, cmap=plt.cm.Pastel1)\n",
    "plt.scatter(X[:, 0], X[:, 1], c=y, cmap=plt.cm.spring, edgecolor='k')\n",
    "plt.xlim(xx.min(), xx.max())\n",
    "plt.ylim(yy.min(), yy.max())\n",
    "plt.title(\"Classifier:KNN\")\n",
    "plt.scatter(10.5, 8.5, marker='*', c='r', s=200)\n",
    "plt.show()\n",
    "\n",
    "# 对数据点进行分类判断\n",
    "print(\"新数据点的分类是:\", clf.predict([[15.5,8.5]]))"
   ]
  },
  {
   "cell_type": "markdown",
   "id": "febec362",
   "metadata": {},
   "source": [
    "#### K最近邻算法处理多元分类任务"
   ]
  },
  {
   "cell_type": "markdown",
   "id": "f5818faf",
   "metadata": {},
   "source": [
    "利用make_blobs方法生成多个数据类型的数据集"
   ]
  },
  {
   "cell_type": "code",
   "execution_count": 4,
   "id": "628f9d59",
   "metadata": {},
   "outputs": [
    {
     "data": {
      "image/png": "[encoded data removed]",
      "text/plain": [
       "<Figure size 432x288 with 1 Axes>"
      ]
     },
     "metadata": {
      "needs_background": "light"
     },
     "output_type": "display_data"
    }
   ],
   "source": [
    "# 生成500个样本数据，共计 5 种类型\n",
    "data2 = make_blobs(n_samples=500, centers=5, random_state=8)\n",
    "X2, y2 = data2\n",
    "# 利用散点图可视化\n",
    "plt.scatter(X2[:, 0], X2[:, 1], c=y2, cmap=plt.cm.spring, edgecolor='k')\n",
    "plt.show()"
   ]
  },
  {
   "cell_type": "markdown",
   "id": "411d7055",
   "metadata": {},
   "source": [
    "利用K最近邻算法建模来进行拟合数据集"
   ]
  },
  {
   "cell_type": "code",
   "execution_count": 5,
   "id": "9b9dd78b",
   "metadata": {},
   "outputs": [
    {
     "name": "stdout",
     "output_type": "stream",
     "text": [
      "预测数据:[[-7.5, -7.5]]的数据类型为:[2]\n",
      "模型正确率: 0.96\n"
     ]
    },
    {
     "data": {
      "image/png": "[encoded data removed]",
      "text/plain": [
       "<Figure size 432x288 with 1 Axes>"
      ]
     },
     "metadata": {
      "needs_background": "light"
     },
     "output_type": "display_data"
    }
   ],
   "source": [
    "# 拟合\n",
    "clf = KNeighborsClassifier()\n",
    "clf.fit(X2, y2)\n",
    "# 画图\n",
    "x_min, x_max = X2[:, 0].min() - 1, X2[:, 0].max() + 1\n",
    "y_min, y_max = X2[:, 1].min() - 1, X2[:, 1].max() + 1\n",
    "xx, yy = np.meshgrid(np.arange(x_min, x_max, .2), np.arange(y_min, y_max, .2))\n",
    "Z = clf.predict(np.c_[xx.ravel(), yy.ravel()])\n",
    "Z = Z.reshape(xx.shape)\n",
    "plt.pcolormesh(xx, yy, Z, cmap=plt.cm.Pastel1)\n",
    "plt.scatter(X2[:, 0], X2[:, 1], c=y2, cmap=plt.cm.spring, edgecolor='k')\n",
    "plt.xlim(x_min, x_max)\n",
    "plt.ylim(y_min, y_max)\n",
    "plt.title(\"Classifier:KNN\")\n",
    "\n",
    "# 预测\n",
    "pre_data = [[-7.5,-7.5]]\n",
    "plt.scatter(pre_data[0][0],pre_data[0][1],c='r',marker=\"*\")\n",
    "pre_type = clf.predict(pre_data)\n",
    "print(\"预测数据:{0}的数据类型为:{1}\".format(pre_data, pre_type))\n",
    "# 模型得分\n",
    "print(\"模型正确率: {:.2f}\".format(clf.score(X2, y2)))\n",
    "\n",
    "plt.show()"
   ]
  },
  {
   "cell_type": "markdown",
   "id": "8c453e30",
   "metadata": {},
   "source": [
    "#### K最近邻算法用于回归"
   ]
  },
  {
   "cell_type": "markdown",
   "id": "1a7a7558",
   "metadata": {},
   "source": [
    "利用make_regression方法生成数据集，来演示K最近邻算法在回归分析中的表现"
   ]
  },
  {
   "cell_type": "code",
   "execution_count": 6,
   "id": "5ea8374b",
   "metadata": {},
   "outputs": [
    {
     "name": "stdout",
     "output_type": "stream",
     "text": [
      "(100, 1) \n",
      " (100,)\n"
     ]
    },
    {
     "data": {
      "image/png": "[encoded data removed]",
      "text/plain": [
       "<Figure size 432x288 with 1 Axes>"
      ]
     },
     "metadata": {
      "needs_background": "light"
     },
     "output_type": "display_data"
    }
   ],
   "source": [
    "# 导入make_regression方法\n",
    "from sklearn.datasets import make_regression\n",
    "# 生成特征数量为 1  噪音为 50 的数据集\n",
    "X, y = make_regression(n_features=1, n_informative=1, noise=50, random_state=8)\n",
    "print(X.shape,'\\n',y.shape)\n",
    "# 散点图\n",
    "plt.scatter(X, y, c='blue', edgecolor='k')\n",
    "plt.show()"
   ]
  },
  {
   "cell_type": "markdown",
   "id": "7169e036",
   "metadata": {},
   "source": [
    "利用K最近邻算法进行回归分析"
   ]
  },
  {
   "cell_type": "code",
   "execution_count": 7,
   "id": "03ac239c",
   "metadata": {},
   "outputs": [
    {
     "data": {
      "image/png": "[encoded data removed]",
      "text/plain": [
       "<Figure size 432x288 with 1 Axes>"
      ]
     },
     "metadata": {
      "needs_background": "light"
     },
     "output_type": "display_data"
    },
    {
     "name": "stdout",
     "output_type": "stream",
     "text": [
      "模型评分：0.77\n"
     ]
    }
   ],
   "source": [
    "# 导入用户回归分析的KNN模型\n",
    "from sklearn.neighbors import KNeighborsRegressor\n",
    "reg = KNeighborsRegressor()\n",
    "# 用 KNN模型进行拟合\n",
    "reg.fit(X, y)\n",
    "# 把预测结果进行可视化\n",
    "z = np.linspace(-3,3,200).reshape(-1, 1)\n",
    "plt.scatter(X, y, c='blue', edgecolor='k')\n",
    "# 预测值\n",
    "pre_data = reg.predict(z)\n",
    "plt.plot(z, pre_data, c='r', lw=5)\n",
    "plt.title(\"KNN Regressor\")\n",
    "plt.show()\n",
    "print(\"模型评分：{:.2f}\".format(reg.score(X, y)))"
   ]
  },
  {
   "cell_type": "markdown",
   "id": "04ae344e",
   "metadata": {},
   "source": [
    "适当调整K最近邻算法的n_neighbors参数看是否能够提高模型评分:"
   ]
  },
  {
   "cell_type": "code",
   "execution_count": 8,
   "id": "d06c0b2e",
   "metadata": {},
   "outputs": [
    {
     "data": {
      "image/png": "[encoded data removed]",
      "text/plain": [
       "<Figure size 432x288 with 1 Axes>"
      ]
     },
     "metadata": {
      "needs_background": "light"
     },
     "output_type": "display_data"
    },
    {
     "name": "stdout",
     "output_type": "stream",
     "text": [
      "模型评分：0.86\n"
     ]
    }
   ],
   "source": [
    "# 导入用户回归分析的KNN模型\n",
    "from sklearn.neighbors import KNeighborsRegressor\n",
    "reg = KNeighborsRegressor(2)\n",
    "# 用 KNN模型进行拟合\n",
    "reg.fit(X, y)\n",
    "# 把预测结果进行可视化\n",
    "z = np.linspace(-3,3,200).reshape(-1, 1)\n",
    "plt.scatter(X, y, c='blue', edgecolor='k')\n",
    "# 预测值\n",
    "pre_data = reg.predict(z)\n",
    "plt.plot(z, pre_data, c='r', lw=5)\n",
    "plt.title(\"KNN Regressor\")\n",
    "plt.show()\n",
    "print(\"模型评分：{:.2f}\".format(reg.score(X, y)))"
   ]
  },
  {
   "cell_type": "markdown",
   "id": "1b4f7ef9",
   "metadata": {},
   "source": [
    "### K最近邻算法实战"
   ]
  },
  {
   "cell_type": "markdown",
   "id": "6ee2e8f2",
   "metadata": {},
   "source": [
    "#### 分析数据集"
   ]
  },
  {
   "cell_type": "markdown",
   "id": "f218d6f5",
   "metadata": {},
   "source": [
    "scikit-learn内置了许多数据集，包含在scikit-learn的datasets模块中"
   ]
  },
  {
   "cell_type": "code",
   "execution_count": 10,
   "id": "67256139",
   "metadata": {},
   "outputs": [
    {
     "name": "stdout",
     "output_type": "stream",
     "text": [
      "酒数据集的数据类型: <class 'sklearn.utils.Bunch'>\n"
     ]
    }
   ],
   "source": [
    "# 导入酒数据集\n",
    "from sklearn.datasets import load_wine\n",
    "wine_dataset = load_wine()\n",
    "print(\"酒数据集的数据类型:\",type(wine_dataset))\n",
    "# import sklearn\n",
    "# print(help(sklearn.utils.Bunch))"
   ]
  },
  {
   "cell_type": "markdown",
   "id": "f9ad8db6",
   "metadata": {},
   "source": [
    "可以看出从load_wine方法得到的数据集是一个sklearn.utils.Bunch对象，下面查看他有哪些数据"
   ]
  },
  {
   "cell_type": "code",
   "execution_count": 11,
   "id": "3c7f84be",
   "metadata": {},
   "outputs": [
    {
     "name": "stdout",
     "output_type": "stream",
     "text": [
      "wine_keys =  dict_keys(['data', 'target', 'frame', 'target_names', 'DESCR', 'feature_names'])\n",
      "data :\n",
      " [[1.423e+01 1.710e+00 2.430e+00 ... 1.040e+00 3.920e+00 1.065e+03]\n",
      " [1.320e+01 1.780e+00 2.140e+00 ... 1.050e+00 3.400e+00 1.050e+03]\n",
      " [1.316e+01 2.360e+00 2.670e+00 ... 1.030e+00 3.170e+00 1.185e+03]\n",
      " ...\n",
      " [1.327e+01 4.280e+00 2.260e+00 ... 5.900e-01 1.560e+00 8.350e+02]\n",
      " [1.317e+01 2.590e+00 2.370e+00 ... 6.000e-01 1.620e+00 8.400e+02]\n",
      " [1.413e+01 4.100e+00 2.740e+00 ... 6.100e-01 1.600e+00 5.600e+02]]\n",
      "target :\n",
      " [0 0 0 0 0 0 0 0 0 0 0 0 0 0 0 0 0 0 0 0 0 0 0 0 0 0 0 0 0 0 0 0 0 0 0 0 0\n",
      " 0 0 0 0 0 0 0 0 0 0 0 0 0 0 0 0 0 0 0 0 0 0 1 1 1 1 1 1 1 1 1 1 1 1 1 1 1\n",
      " 1 1 1 1 1 1 1 1 1 1 1 1 1 1 1 1 1 1 1 1 1 1 1 1 1 1 1 1 1 1 1 1 1 1 1 1 1\n",
      " 1 1 1 1 1 1 1 1 1 1 1 1 1 1 1 1 1 1 1 2 2 2 2 2 2 2 2 2 2 2 2 2 2 2 2 2 2\n",
      " 2 2 2 2 2 2 2 2 2 2 2 2 2 2 2 2 2 2 2 2 2 2 2 2 2 2 2 2 2 2]\n",
      "frame :\n",
      " None\n",
      "target_names :\n",
      " ['class_0' 'class_1' 'class_2']\n",
      "DESCR :\n",
      " .. _wine_dataset:\n",
      "\n",
      "Wine recognition dataset\n",
      "------------------------\n",
      "\n",
      "**Data Set Characteristics:**\n",
      "\n",
      "    :Number of Instances: 178 (50 in each of three classes)\n",
      "    :Number of Attributes: 13 numeric, predictive attributes and the class\n",
      "    :Attribute Information:\n",
      " \t\t- Alcohol\n",
      " \t\t- Malic acid\n",
      " \t\t- Ash\n",
      "\t\t- Alcalinity of ash  \n",
      " \t\t- Magnesium\n",
      "\t\t- Total phenols\n",
      " \t\t- Flavanoids\n",
      " \t\t- Nonflavanoid phenols\n",
      " \t\t- Proanthocyanins\n",
      "\t\t- Color intensity\n",
      " \t\t- Hue\n",
      " \t\t- OD280/OD315 of diluted wines\n",
      " \t\t- Proline\n",
      "\n",
      "    - class:\n",
      "            - class_0\n",
      "            - class_1\n",
      "            - class_2\n",
      "\t\t\n",
      "    :Summary Statistics:\n",
      "    \n",
      "    ============================= ==== ===== ======= =====\n",
      "                                   Min   Max   Mean     SD\n",
      "    ============================= ==== ===== ======= =====\n",
      "    Alcohol:                      11.0  14.8    13.0   0.8\n",
      "    Malic Acid:                   0.74  5.80    2.34  1.12\n",
      "    Ash:                          1.36  3.23    2.36  0.27\n",
      "    Alcalinity of Ash:            10.6  30.0    19.5   3.3\n",
      "    Magnesium:                    70.0 162.0    99.7  14.3\n",
      "    Total Phenols:                0.98  3.88    2.29  0.63\n",
      "    Flavanoids:                   0.34  5.08    2.03  1.00\n",
      "    Nonflavanoid Phenols:         0.13  0.66    0.36  0.12\n",
      "    Proanthocyanins:              0.41  3.58    1.59  0.57\n",
      "    Colour Intensity:              1.3  13.0     5.1   2.3\n",
      "    Hue:                          0.48  1.71    0.96  0.23\n",
      "    OD280/OD315 of diluted wines: 1.27  4.00    2.61  0.71\n",
      "    Proline:                       278  1680     746   315\n",
      "    ============================= ==== ===== ======= =====\n",
      "\n",
      "    :Missing Attribute Values: None\n",
      "    :Class Distribution: class_0 (59), class_1 (71), class_2 (48)\n",
      "    :Creator: R.A. Fisher\n",
      "    :Donor: Michael Marshall (MARSHALL%PLU@io.arc.nasa.gov)\n",
      "    :Date: July, 1988\n",
      "\n",
      "This is a copy of UCI ML Wine recognition datasets.\n",
      "https://archive.ics.uci.edu/ml/machine-learning-databases/wine/wine.data\n",
      "\n",
      "The data is the results of a chemical analysis of wines grown in the same\n",
      "region in Italy by three different cultivators. There are thirteen different\n",
      "measurements taken for different constituents found in the three types of\n",
      "wine.\n",
      "\n",
      "Original Owners: \n",
      "\n",
      "Forina, M. et al, PARVUS - \n",
      "An Extendible Package for Data Exploration, Classification and Correlation. \n",
      "Institute of Pharmaceutical and Food Analysis and Technologies,\n",
      "Via Brigata Salerno, 16147 Genoa, Italy.\n",
      "\n",
      "Citation:\n",
      "\n",
      "Lichman, M. (2013). UCI Machine Learning Repository\n",
      "[https://archive.ics.uci.edu/ml]. Irvine, CA: University of California,\n",
      "School of Information and Computer Science. \n",
      "\n",
      ".. topic:: References\n",
      "\n",
      "  (1) S. Aeberhard, D. Coomans and O. de Vel, \n",
      "  Comparison of Classifiers in High Dimensional Settings, \n",
      "  Tech. Rep. no. 92-02, (1992), Dept. of Computer Science and Dept. of  \n",
      "  Mathematics and Statistics, James Cook University of North Queensland. \n",
      "  (Also submitted to Technometrics). \n",
      "\n",
      "  The data was used with many others for comparing various \n",
      "  classifiers. The classes are separable, though only RDA \n",
      "  has achieved 100% correct classification. \n",
      "  (RDA : 100%, QDA 99.4%, LDA 98.9%, 1NN 96.1% (z-transformed data)) \n",
      "  (All results using the leave-one-out technique) \n",
      "\n",
      "  (2) S. Aeberhard, D. Coomans and O. de Vel, \n",
      "  \"THE CLASSIFICATION PERFORMANCE OF RDA\" \n",
      "  Tech. Rep. no. 92-01, (1992), Dept. of Computer Science and Dept. of \n",
      "  Mathematics and Statistics, James Cook University of North Queensland. \n",
      "  (Also submitted to Journal of Chemometrics).\n",
      "\n",
      "feature_names :\n",
      " ['alcohol', 'malic_acid', 'ash', 'alcalinity_of_ash', 'magnesium', 'total_phenols', 'flavanoids', 'nonflavanoid_phenols', 'proanthocyanins', 'color_intensity', 'hue', 'od280/od315_of_diluted_wines', 'proline']\n"
     ]
    }
   ],
   "source": [
    "wine_keys = wine_dataset.keys()\n",
    "print(\"wine_keys = \",wine_keys)\n",
    "# wine_values = wine_dataset.values()\n",
    "# print(\"wine_values : \\n\",wine_values)\n",
    "# wine_items = wine_dataset.items()\n",
    "# print(\"wine_items : \\n\", wine_items)\n",
    "for k in wine_keys:\n",
    "    print(k, ':\\n', wine_dataset[k])"
   ]
  },
  {
   "cell_type": "markdown",
   "id": "fc74b434",
   "metadata": {},
   "source": [
    "```python\n",
    "# wine_keys =  dict_keys(['data', 'target', 'frame', 'target_names', 'DESCR', 'feature_names'])\n",
    "```\n",
    "现在可以明确知道酒数据中包括了 :数据data ，数据分类target，数据分类的名称target_names，数据描述DESCR，还有特征变量名称feature_names；并且已经print出来它们的内容了"
   ]
  },
  {
   "cell_type": "markdown",
   "id": "38e57b89",
   "metadata": {},
   "source": [
    "现在需要一写关于数据集的其他信息，比如酒数据集中包含了多少个样本和每个样本有多少个特征值"
   ]
  },
  {
   "cell_type": "code",
   "execution_count": 12,
   "id": "c73b88d8",
   "metadata": {},
   "outputs": [
    {
     "name": "stdout",
     "output_type": "stream",
     "text": [
      "数据集的数据情况:样本数量178,每个样本特征数量:13\n"
     ]
    }
   ],
   "source": [
    "wine_data_shape = wine_dataset['data'].shape\n",
    "print(\"数据集的数据情况:样本数量{0},每个样本特征数量:{1}\".format(wine_data_shape[0],wine_data_shape[1]))\n"
   ]
  },
  {
   "cell_type": "markdown",
   "id": "9440da18",
   "metadata": {},
   "source": [
    "也可以通过数据集的描述来查看数据集的结构情况"
   ]
  },
  {
   "cell_type": "code",
   "execution_count": 13,
   "id": "edd357e4",
   "metadata": {},
   "outputs": [
    {
     "name": "stdout",
     "output_type": "stream",
     "text": [
      ".. _wine_dataset:\n",
      "\n",
      "Wine recognition dataset\n",
      "------------------------\n",
      "\n",
      "**Data Set Characteristics:**\n",
      "\n",
      "    :Number of Instances: 178 (50 in each of three classes)\n",
      "    :Number of Attributes: 13 numeric, predictive attributes and the class\n",
      "    :Attribute Information:\n",
      " \t\t- Alcohol\n",
      " \t\t- Malic acid\n",
      " \t\t- Ash\n",
      "\t\t- Alcalinity of ash  \n",
      " \t\t- Magnesium\n",
      "\t\t- Total phenols\n",
      " \t\t- Flavanoids\n",
      " \t\t- Nonflavanoid phenols\n",
      " \t\t- Proanthocyanins\n",
      "\t\t- Color intensity\n",
      " \t\t- Hue\n",
      " \t\t- OD280/OD315 of diluted wines\n",
      " \t\t- Proline\n",
      "\n",
      "    - class:\n",
      "            - class_0\n",
      "            - class_1\n",
      "            - class_2\n",
      "\t\t\n",
      "    :Summary Statistics:\n",
      "    \n",
      "    ============================= ==== ===== ======= =====\n",
      "                                   Min   Max   Mean     SD\n",
      "    ============================= ==== ===== ======= =====\n",
      "    Alcohol:                      11.0  14.8    13.0   0.8\n",
      "    Malic Acid:                   0.74  5.80    2.34  1.12\n",
      "    Ash:                          1.36  3.23    2.36  0.27\n",
      "    Alcalinity of Ash:            10.6  30.0    19.5   3.3\n",
      "    Magnesium:                    70.0 162.0    99.7  14.3\n",
      "    Total Phenols:                0.98  3.88    2.29  0.63\n",
      "    Flavanoids:                   0.34  5.08    2.03  1.00\n",
      "    Nonflavanoid Phenols:         0.13  0.66    0.36  0.12\n",
      "    Proanthocyanins:              0.41  3.58    1.59  0.57\n",
      "    Colour Intensity:              1.3  13.0     5.1   2.3\n",
      "    Hue:                          0.48  1.71    0.96  0.23\n",
      "    OD280/OD315 of diluted wines: 1.27  4.00    2.61  0.71\n",
      "    Proline:                       278  1680     746   315\n",
      "    ============================= ==== ===== ======= =====\n",
      "\n",
      "    :Missing Attribute Values: None\n",
      "    :Class Distribution: class_0 (59), class_1 (71), class_2 (48)\n",
      "    :Creator: R.A. Fisher\n",
      "    :Donor: Michael Marshall (MARSHALL%PLU@io.arc.nasa.gov)\n",
      "    :Date: July, 1988\n",
      "\n",
      "This is a copy of UCI ML Wine recognition datasets.\n",
      "https://archive.ics.uci.edu/ml/machine-learning-databases/wine/wine.data\n",
      "\n",
      "The data is the results of a chemical analysis of wines grown in the same\n",
      "region in Italy by three different cultivators. There are thirteen different\n",
      "measurements taken for different constituents found in the three types of\n",
      "wine.\n",
      "\n",
      "Original Owners: \n",
      "\n",
      "Forina, M. et al, PARVUS - \n",
      "An Extendible Package for Data Exploration, Classification and Correlation. \n",
      "Institute of Pharmaceutical and Food Analysis and Technologies,\n",
      "Via Brigata Salerno, 16147 Genoa, Italy.\n",
      "\n",
      "Citation:\n",
      "\n",
      "Lichman, M. (2013). UCI Machine Learning Repository\n",
      "[https://archive.ics.uci.edu/ml]. Irvine, CA: University of California,\n",
      "School of Information and Computer Science. \n",
      "\n",
      ".. topic:: References\n",
      "\n",
      "  (1) S. Aeberhard, D. Coomans and O. de Vel, \n",
      "  Comparison of Classifiers in High Dimensional Settings, \n",
      "  Tech. Rep. no. 92-02, (1992), Dept. of Computer Science and Dept. of  \n",
      "  Mathematics and Statistics, James Cook University of North Queensland. \n",
      "  (Also submitted to Technometrics). \n",
      "\n",
      "  The data was used with many others for comparing various \n",
      "  classifiers. The classes are separable, though only RDA \n",
      "  has achieved 100% correct classification. \n",
      "  (RDA : 100%, QDA 99.4%, LDA 98.9%, 1NN 96.1% (z-transformed data)) \n",
      "  (All results using the leave-one-out technique) \n",
      "\n",
      "  (2) S. Aeberhard, D. Coomans and O. de Vel, \n",
      "  \"THE CLASSIFICATION PERFORMANCE OF RDA\" \n",
      "  Tech. Rep. no. 92-01, (1992), Dept. of Computer Science and Dept. of \n",
      "  Mathematics and Statistics, James Cook University of North Queensland. \n",
      "  (Also submitted to Journal of Chemometrics).\n",
      "\n"
     ]
    }
   ],
   "source": [
    "print(wine_dataset['DESCR'])"
   ]
  },
  {
   "cell_type": "markdown",
   "id": "c9724dbb",
   "metadata": {},
   "source": [
    "#### 生成训练数据集和测试数据集"
   ]
  },
  {
   "cell_type": "markdown",
   "id": "4efcfd28",
   "metadata": {},
   "source": [
    "在构建算法模型之前，我们需要先对模型的可信度进行评判，这样让我们能清楚这个模型的可靠性是个什么情况；\n",
    "我们需要将数据集进行拆分，一部分作为训练数据集，另一部分作为测试数据集，用来验证模型的得分情况；\n",
    "利用train_test_split方法可以快速的将数据集进行拆分\n",
    "> train_test_split方法将数据集进行随即排列，默认情况下将数据集的75%的数据和对应的数据分类情况分配给训练数据集，剩下的25%将用于测试数据集"
   ]
  },
  {
   "cell_type": "code",
   "execution_count": 14,
   "id": "8c066536",
   "metadata": {},
   "outputs": [],
   "source": [
    "# 导入数据集拆分工具\n",
    "from sklearn.model_selection import train_test_split\n",
    "# print(help(train_test_split))\n",
    "# train_test_split(*arrays, test_size=None, train_size=None, random_state=None, shuffle=True, stratify=None)\n",
    "X = wine_dataset['data']\n",
    "y = wine_dataset['target']\n",
    "X_train, X_test, y_train, y_test = train_test_split(X, y)"
   ]
  },
  {
   "cell_type": "markdown",
   "id": "4150d3e2",
   "metadata": {},
   "source": [
    "现在已经利用train_test_split方法将数据集中的数据和数据分类拆分成了训练数据集和测试数据集；可以通过shape属性查看一下训练数据集和测试数据集的结构情况"
   ]
  },
  {
   "cell_type": "code",
   "execution_count": 15,
   "id": "965c805e",
   "metadata": {},
   "outputs": [
    {
     "name": "stdout",
     "output_type": "stream",
     "text": [
      "(133, 13) (45, 13) (133,) (45,)\n"
     ]
    }
   ],
   "source": [
    "print(X_train.shape, X_test.shape, y_train.shape, y_test.shape)"
   ]
  },
  {
   "cell_type": "markdown",
   "id": "5fa05696",
   "metadata": {},
   "source": [
    "可以看出训练数据集:X_train中有133个样本以及对应的y_train中的133个数据分类标签，测试数据集中有45个样本以及对应的45个数据分类标签；同时他们得到的数据特征也都是13个"
   ]
  },
  {
   "cell_type": "markdown",
   "id": "ee729aca",
   "metadata": {},
   "source": [
    "#### 使用K最近邻算法进行建模"
   ]
  },
  {
   "cell_type": "markdown",
   "id": "92061396",
   "metadata": {},
   "source": [
    "拆分好了训练数据集和测试数据集之后，现在就可以进行用机器学习的算法进行建模了；需要从众多算法中选取一种最适合该数据集的算法模型进行建模。下面使用K最近邻算法进行建模"
   ]
  },
  {
   "cell_type": "code",
   "execution_count": 16,
   "id": "30a64899",
   "metadata": {},
   "outputs": [
    {
     "data": {
      "text/plain": [
       "KNeighborsClassifier(n_neighbors=1)"
      ]
     },
     "execution_count": 16,
     "metadata": {},
     "output_type": "execute_result"
    }
   ],
   "source": [
    "# 导入KNN分类模型\n",
    "from sklearn.neighbors import KNeighborsClassifier\n",
    "# 实例化 KNN模型，并调整KNN模型的n_neighbors参数值=1\n",
    "knn = KNeighborsClassifier(n_neighbors=1)\n",
    "# 使用 KNN模型对象的fit方法进行建模\n",
    "knn.fit(X_train, y_train)\n",
    "# print(knn)"
   ]
  },
  {
   "cell_type": "markdown",
   "id": "f4b3ef0d",
   "metadata": {},
   "source": [
    "#### 使用模型对新样本进行预测"
   ]
  },
  {
   "cell_type": "markdown",
   "id": "64c42b54",
   "metadata": {},
   "source": [
    "已经利用训练数据集建立了模型，现在可以利用测试数据集对模型进行评分，测试建立的模型可靠性有多少，测试出来的评分越高可靠性越高，说明模型的预测能力越准确，满分是 1.0 分"
   ]
  },
  {
   "cell_type": "code",
   "execution_count": 17,
   "id": "df816332",
   "metadata": {},
   "outputs": [
    {
     "name": "stdout",
     "output_type": "stream",
     "text": [
      "测试数据在模型下的得分:0.78\n"
     ]
    }
   ],
   "source": [
    "test_score = knn.score(X_test, y_test)\n",
    "print(\"测试数据在模型下的得分:{:.2f}\".format(test_score))"
   ]
  },
  {
   "cell_type": "markdown",
   "id": "0b36ae4b",
   "metadata": {},
   "source": [
    "这样已经有了这个模型在测试数据下的得分，我们大概了解到这个模型的可靠性，以及他预测能力的准确性大概是个什么情况；接下来可以将需要进行预测的数据利用KNN模型对象的predict方法进行分类预测"
   ]
  },
  {
   "cell_type": "code",
   "execution_count": 18,
   "id": "751c0e85",
   "metadata": {},
   "outputs": [
    {
     "name": "stdout",
     "output_type": "stream",
     "text": [
      "预测到的新数据分类名称: ['class_0']\n"
     ]
    }
   ],
   "source": [
    "import numpy as np\n",
    "X_new = np.array([[10.5, 1.74, 1.36, 10.6, 70.0, 1.98, 1.34, 2.13, 1.41,  1.3, 0.48, 1.27, 1000]])\n",
    "pre_new = knn.predict(X_new)\n",
    "target_name = wine_dataset['target_names'][pre_new]\n",
    "print(\"预测到的新数据分类名称:\",target_name)"
   ]
  },
  {
   "cell_type": "markdown",
   "id": "d77053bf",
   "metadata": {},
   "source": [
    "## 广义线性模型"
   ]
  },
  {
   "cell_type": "markdown",
   "id": "0a41b833",
   "metadata": {},
   "source": [
    "### 线性模型的基本概念"
   ]
  },
  {
   "cell_type": "markdown",
   "id": "a20d6f7d",
   "metadata": {},
   "source": [
    "线性模型本是统计学中的一个术语，线性模型并不是指某一个模型，而是一类模型，在机器学习中，用的线性模型有:线性回归，岭回归，套索回归，逻辑回归，线性SVC等"
   ]
  },
  {
   "cell_type": "markdown",
   "id": "ba1b5858",
   "metadata": {},
   "source": [
    "####  线性模型的一般公式"
   ]
  },
  {
   "cell_type": "markdown",
   "id": "8fddbfb7",
   "metadata": {},
   "source": [
    "在回归分析中，线性模型的一般公式：\n",
    "```python\n",
    "\n",
    "ŷ = w[0] · x[0] + w[1] · x[1] + … + w[p] · x[p] + b\n",
    "\n",
    "```\n",
    "公式中:<br>\n",
    "x[0-p] 表示数据集中特征变量的数量(公式表示数据集中的数据点一共有p个特征)<br>\n",
    "w和b是 模型的参数<br>\n",
    "ŷ 是模型对于数据结果的预测值；<br>\n",
    "如果数据集只有一个特征变量值，公式可以简化为:\n",
    "```python\n",
    "ŷ = w[0]· x[0] + b\n",
    "\n",
    "```\n",
    "看起来这个公式是一个直线的方程解析公式，w[0]是直线的**斜率**；b是y轴的**偏移量**，也就是截距；如果是多个特征数量的数据集的话，每个w[p]的值都对应每个特征x[p]的斜率。那么预测值ŷ可以理解为每个特征的**加权和**，w[p]代表每个特征的权重。"
   ]
  },
  {
   "cell_type": "code",
   "execution_count": 19,
   "id": "8f4f6be5",
   "metadata": {},
   "outputs": [
    {
     "data": {
      "image/png": "[encoded data removed]",
      "text/plain": [
       "<Figure size 432x288 with 1 Axes>"
      ]
     },
     "metadata": {
      "needs_background": "light"
     },
     "output_type": "display_data"
    }
   ],
   "source": [
    "# 根据直线方程式绘制一条直线\n",
    "# ŷ = w[0]· x[0] + b\n",
    "# 方程式 : y=0.5*x+3\n",
    "import numpy as np\n",
    "import matplotlib.pyplot as plt\n",
    "x = np.linspace(-5, 5, 100)\n",
    "y = 0.5 * x + 3\n",
    "plt.plot(x, y)\n",
    "plt.title(\"y=0.5*x+3\")\n",
    "plt.show()"
   ]
  },
  {
   "cell_type": "markdown",
   "id": "2d878ff1",
   "metadata": {},
   "source": [
    "线性模型是通过训练数据集来确定自身的系数w（斜率）和截距b"
   ]
  },
  {
   "cell_type": "markdown",
   "id": "bb97c614",
   "metadata": {},
   "source": [
    "#### 线性模型的图形表示"
   ]
  },
  {
   "cell_type": "markdown",
   "id": "abfa13c2",
   "metadata": {},
   "source": [
    "通过两个点的连接可以绘制出一条直线，并且可以计算出这条直线的方程式；下面看一个例子:"
   ]
  },
  {
   "cell_type": "code",
   "execution_count": 20,
   "id": "fb59d5ad",
   "metadata": {},
   "outputs": [
    {
     "data": {
      "image/png": "[encoded data removed]",
      "text/plain": [
       "<Figure size 432x288 with 1 Axes>"
      ]
     },
     "metadata": {
      "needs_background": "light"
     },
     "output_type": "display_data"
    }
   ],
   "source": [
    "# 两个坐标点 (1, 3) (4, 5)\n",
    "# 导入线性回归模型\n",
    "from sklearn.linear_model import LinearRegression\n",
    "# 两个点的横坐标 \n",
    "X = [[1], [4]]\n",
    "y = [3, 5]\n",
    "# 利用线性模型拟合这两个点\n",
    "lr = LinearRegression()\n",
    "lr.fit(X, y)\n",
    "# 预测值\n",
    "z = np.linspace(0,5,20)\n",
    "z = z.reshape(-1, 1)\n",
    "# predict方法获取预测值\n",
    "pre_z = lr.predict(z)\n",
    "# 绘制预测值\n",
    "plt.plot(z, pre_z,'r--')\n",
    "# 绘制(1, 3) (4, 5)坐标点\n",
    "plt.scatter(X, y,s=100)\n",
    "plt.show()"
   ]
  },
  {
   "cell_type": "markdown",
   "id": "3e69e6f8",
   "metadata": {},
   "source": [
    "直线已经绘制出来，可以分析一下这个直线的方程是一个什么样子的："
   ]
  },
  {
   "cell_type": "code",
   "execution_count": 21,
   "id": "e0ff0cfb",
   "metadata": {},
   "outputs": [
    {
     "name": "stdout",
     "output_type": "stream",
     "text": [
      "坐标点(1, 3) (4, 5)绘制的直线方程式:\n",
      " y = 0.667 * x +  2.333\n"
     ]
    }
   ],
   "source": [
    "# w 斜率\n",
    "w = lr.coef_[0]\n",
    "# 截距\n",
    "b = lr.intercept_\n",
    "print(\"坐标点(1, 3) (4, 5)绘制的直线方程式:\\n\", \"y = {:.3f} * x + \".format(w),\"{:.3f}\".format(b))"
   ]
  },
  {
   "cell_type": "markdown",
   "id": "76244aa2",
   "metadata": {},
   "source": [
    "上面的例子是提供了两个点的坐标进行预测，下面来看看如果提供三个点的坐标看看会是什么情况"
   ]
  },
  {
   "cell_type": "code",
   "execution_count": 22,
   "id": "ef180f54",
   "metadata": {},
   "outputs": [
    {
     "data": {
      "image/png": "[encoded data removed]",
      "text/plain": [
       "<Figure size 432x288 with 1 Axes>"
      ]
     },
     "metadata": {
      "needs_background": "light"
     },
     "output_type": "display_data"
    },
    {
     "name": "stdout",
     "output_type": "stream",
     "text": [
      "坐标点(1, 3) (4, 5) (3, 3)绘制的直线方程式:\n",
      " y = 0.571 * x +  2.143\n"
     ]
    }
   ],
   "source": [
    "# 坐标数据 (1, 3) (4, 5) (3, 3)\n",
    "from sklearn.linear_model import LinearRegression\n",
    "import numpy as np\n",
    "import matplotlib.pyplot as plt\n",
    "X = [[1], [4], [3]]\n",
    "y = [3, 5, 3]\n",
    "lr = LinearRegression()\n",
    "lr.fit(X, y)\n",
    "z = np.linspace(0, 5, 20)\n",
    "z = z.reshape(-1, 1)\n",
    "pre_z = lr.predict(z)\n",
    "plt.scatter(X,y,c='b')\n",
    "plt.plot(z,pre_z,'r:')\n",
    "plt.show()\n",
    "\n",
    "# w 斜率\n",
    "w = lr.coef_[0]\n",
    "# 截距\n",
    "b = lr.intercept_\n",
    "print(\"坐标点(1, 3) (4, 5) (3, 3)绘制的直线方程式:\\n\", \"y = {:.3f} * x + \".format(w),\"{:.3f}\".format(b))"
   ]
  },
  {
   "cell_type": "markdown",
   "id": "557910e5",
   "metadata": {},
   "source": [
    "这次直线的绘制不同两个点的直线，直线没有穿过任何一个点，而是位于和3个点的距离相加的最小值得位置上"
   ]
  },
  {
   "cell_type": "markdown",
   "id": "1d86d926",
   "metadata": {},
   "source": [
    "在增加了一个点的坐标之后的直线方程式已经和刚才两个点的时候发生了变化<br>\n",
    "线性模型让预测值处在与每个数据点的距离相加的最小值的位置；这就是线性模型的原理<br>\n",
    "在实际应用中，数据量要远远大于2个或3个数据点，下面利用make_regression方法或得数据量更大的线性数据来进行试验\n"
   ]
  },
  {
   "cell_type": "code",
   "execution_count": 23,
   "id": "164adc99",
   "metadata": {},
   "outputs": [
    {
     "data": {
      "image/png": "[encoded data removed]",
      "text/plain": [
       "<Figure size 432x288 with 1 Axes>"
      ]
     },
     "metadata": {
      "needs_background": "light"
     },
     "output_type": "display_data"
    },
    {
     "name": "stdout",
     "output_type": "stream",
     "text": [
      "坐标点(1, 3) (4, 5)绘制的直线方程式:\n",
      " y = 79.525 * x +  10.922\n"
     ]
    }
   ],
   "source": [
    "from sklearn.datasets import make_regression\n",
    "from sklearn.linear_model import LinearRegression\n",
    "import numpy as np\n",
    "import matplotlib.pyplot as plt\n",
    "# 生成用于回归分析的数据集\n",
    "X, y = make_regression(n_samples=50, n_features=1, n_informative=1, noise=50, random_state=1)\n",
    "# 线性模型\n",
    "lr =LinearRegression()\n",
    "# 对数据进行拟合\n",
    "lr.fit(X, y)\n",
    "z = np.linspace(-3, 3, 200)\n",
    "z = z.reshape(-1, 1)\n",
    "pre_z = lr.predict(z)\n",
    "plt.scatter(X, y)\n",
    "plt.plot(z, pre_z,'r:')\n",
    "plt.show()\n",
    "\n",
    "# w 斜率\n",
    "w = lr.coef_[0]\n",
    "# 截距\n",
    "b = lr.intercept_\n",
    "print(\"坐标点(1, 3) (4, 5)绘制的直线方程式:\\n\", \"y = {:.3f} * x + \".format(w),\"{:.3f}\".format(b))"
   ]
  },
  {
   "cell_type": "markdown",
   "id": "db55ff91",
   "metadata": {},
   "source": [
    "#### 线性模型的特点"
   ]
  },
  {
   "cell_type": "markdown",
   "id": "015ee4a5",
   "metadata": {},
   "source": [
    "以上线性模型的操作都是基于数据集的特征只有1个；在回归分析的线性模型中，特征数量是1个的数据集中，该模型是通过一条直线进行预测分析的；当数据特征数量是2个的话，将会是用一个平面来进行预测分析，更多的特征数量将会使用更高维度进行预测；与K最近邻算法比较，线性模型的预测方法是非常有局限性的，很多数据都没有落在预测的这条直线上；<br>\n",
    "因为使用线性模型的前提条件，是假设目标y是数据特征的线性组合，对于特征变量较多的数据集来说，线性模型就显得十分强大，特别是当数据集的特征变量大于数据点的数量的时候，线性模型对训练数据可以做出很好的预测<br>\n",
    "用于回归分析的线性模型有很多种，区别主要是在于如何从训练数据集中确定数据模型的参数w和b，以及如何控制模型的复杂程度"
   ]
  },
  {
   "cell_type": "markdown",
   "id": "f658f509",
   "metadata": {},
   "source": [
    "### 最基本的线性模型 - 线性回归 LinearRegresson"
   ]
  },
  {
   "cell_type": "markdown",
   "id": "051fd71b",
   "metadata": {},
   "source": [
    "线性回归，也称为普通最小二乘法(OLS)，是在回归分析中最简单也是最经典的模型"
   ]
  },
  {
   "cell_type": "markdown",
   "id": "37167f4e",
   "metadata": {},
   "source": [
    "#### 线性回归的基本原理"
   ]
  },
  {
   "cell_type": "markdown",
   "id": "0cb24b93",
   "metadata": {},
   "source": [
    "线性回归的基本原理：找到当训练数据集中y的预测值和其真实值的平方差最小的时候，所对应的w和b的值<br>\n",
    "下面利用make_regression方法生成线性数据集，并利用线性回归模型计算出w值和b值"
   ]
  },
  {
   "cell_type": "code",
   "execution_count": 24,
   "id": "8ccdcc87",
   "metadata": {},
   "outputs": [
    {
     "name": "stdout",
     "output_type": "stream",
     "text": [
      "[70.38592453  7.43213621] \n",
      " -1.4210854715202004e-14\n"
     ]
    }
   ],
   "source": [
    "# 利用make_regression方法生成线性数据集 ： 100个样本 2个特征\n",
    "from sklearn.datasets import make_regression\n",
    "from sklearn.model_selection import train_test_split\n",
    "from sklearn.linear_model import LinearRegression\n",
    "X, y = make_regression(n_samples=100, n_features=2, n_informative=2,random_state=38)\n",
    "# 利用train_test_split方法将数据集拆分成 训练数据集和测试数据集\n",
    "X_train, X_test, y_train, y_test = train_test_split(X,y,random_state=8)\n",
    "lr = LinearRegression()\n",
    "lr.fit(X_train, y_train)\n",
    "w = lr.coef_\n",
    "b = lr.intercept_\n",
    "print(w,'\\n',b)"
   ]
  },
  {
   "cell_type": "markdown",
   "id": "66815494",
   "metadata": {},
   "source": [
    "LinearRegression对象的intercept_属性是一个浮点数，对应是线性模型方程中的b值</br>\n",
    "LinearRegression对象的coef_属性是一个Numpy数组，每个数值对应数据集中的特征数据</br>\n",
    "获取到w和b值就可以列出数据集对应的线性回归模型的方程式:"
   ]
  },
  {
   "cell_type": "code",
   "execution_count": 25,
   "id": "a749b88c",
   "metadata": {},
   "outputs": [
    {
     "name": "stdout",
     "output_type": "stream",
     "text": [
      "y = 70.39  * x[0] + 7.43  * x[1] + -1.4210854715202004e-14\n"
     ]
    }
   ],
   "source": [
    "equ = ''\n",
    "for i in range(len(w)):\n",
    "    equ += '{:.2f} '.format(w[i])+f' * x[{i}] + '\n",
    "equ += str(b)\n",
    "equ = 'y = ' + equ\n",
    "print(equ)"
   ]
  },
  {
   "cell_type": "markdown",
   "id": "9c11e396",
   "metadata": {},
   "source": [
    "#### 线性回归的性能表现"
   ]
  },
  {
   "cell_type": "markdown",
   "id": "67ce1e39",
   "metadata": {},
   "source": [
    "现在使用测试数据集对线性回归模型进行测试，看评分能达到多少"
   ]
  },
  {
   "cell_type": "code",
   "execution_count": 26,
   "id": "82ebd695",
   "metadata": {},
   "outputs": [
    {
     "name": "stdout",
     "output_type": "stream",
     "text": [
      "训练数据集评分: 1.0\n",
      "训练数据集评分: 1.0\n"
     ]
    }
   ],
   "source": [
    "pre_score = lr.score(X_train, y_train)\n",
    "print(\"训练数据集评分:\", pre_score)\n",
    "pre_score = lr.score(X_test, y_test)\n",
    "print(\"训练数据集评分:\", pre_score)"
   ]
  },
  {
   "cell_type": "markdown",
   "id": "696d1023",
   "metadata": {},
   "source": [
    "因为利用make_regression方法生成数据集的时候并没有向数据集中添加noise，数据的复杂度较低，然而真实应用当中数据集的复杂程度要高很多，而且特征数量也很多。下面利用糖尿病数据集来测试一下线性回归的预测能力"
   ]
  },
  {
   "cell_type": "code",
   "execution_count": 27,
   "id": "0f0dd2f5",
   "metadata": {},
   "outputs": [
    {
     "name": "stdout",
     "output_type": "stream",
     "text": [
      "训练数据集得分:0.53\n",
      "测试数据集得分:0.46\n"
     ]
    }
   ],
   "source": [
    "# 导入糖尿病数据集\n",
    "from sklearn.datasets import load_diabetes\n",
    "from sklearn.model_selection import train_test_split\n",
    "from sklearn.linear_model import LinearRegression\n",
    "diabete_dataset= load_diabetes()\n",
    "# print(diabete_dataset.keys())\n",
    "X = diabete_dataset['data']\n",
    "y = diabete_dataset['target']\n",
    "X_train, X_test, y_train, y_test = train_test_split(X, y, random_state=8)\n",
    "lr = LinearRegression()\n",
    "lr.fit(X_train, y_train)\n",
    "train_score = lr.score(X_train, y_train)\n",
    "test_score = lr.score(X_test, y_test)\n",
    "print(\"训练数据集得分:{:.2f}\".format(train_score))\n",
    "print(\"测试数据集得分:{:.2f}\".format(test_score))\n"
   ]
  },
  {
   "cell_type": "markdown",
   "id": "81d792b0",
   "metadata": {},
   "source": [
    "由于测试数据集的得分低于训练数据集的得分很多，出现了过拟合的现象，因为现实数据的复杂程度要比手工合成的数据高很多，使得线性回归的表现大幅下降，因为线性回归无法调整模型的参数，使得线性回归在面对复杂的数据集无法进行很好的预测。"
   ]
  },
  {
   "cell_type": "markdown",
   "id": "63f994c0",
   "metadata": {},
   "source": [
    "### 使用L2正则化的线性模型 - 岭回归 Ridge"
   ]
  },
  {
   "cell_type": "markdown",
   "id": "0f53e2aa",
   "metadata": {},
   "source": [
    "岭回归也是回归分析中常用的线性模型，实际是一种改良过的最小二乘法"
   ]
  },
  {
   "cell_type": "markdown",
   "id": "0e866e5e",
   "metadata": {},
   "source": [
    "#### 岭回归的原理"
   ]
  },
  {
   "cell_type": "markdown",
   "id": "e8b3785b",
   "metadata": {},
   "source": [
    "线性回归容易出现过拟合的情况，从实用角度出发，岭回归是一种可以避免过拟合现象的一种线性模型，在岭回归中，模型将保留所有特征变量，但是会减小特征变量的系数，从而让特征变量对预测结果的影响变小，岭回归通过改变alpha参数来控制减小特征变量系数的程度，也就是保留了特征变量，降低特征变量系数来避免出现过拟合现象，也称之为:L2正则化"
   ]
  },
  {
   "cell_type": "markdown",
   "id": "4d139bba",
   "metadata": {},
   "source": [
    "岭回归在scikit-learn中通过sklearn.linear_model.Ridge函数调用"
   ]
  },
  {
   "cell_type": "code",
   "execution_count": 28,
   "id": "065c70b2",
   "metadata": {},
   "outputs": [
    {
     "name": "stdout",
     "output_type": "stream",
     "text": [
      "岭回归训练数据集得分:0.43\n",
      "岭回归测试数据集得分:0.43\n"
     ]
    }
   ],
   "source": [
    "# 通过糖尿病的数据集来看看 岭回归的预测表现\n",
    "# 导入岭回归\n",
    "from sklearn.linear_model import Ridge\n",
    "ridge = Ridge()\n",
    "ridge.fit(X_train,y_train)\n",
    "train_score = ridge.score(X_train, y_train)\n",
    "test_score = ridge.score(X_test, y_test)\n",
    "print(\"岭回归训练数据集得分:{:.2f}\".format(train_score))\n",
    "print(\"岭回归测试数据集得分:{:.2f}\".format(test_score))"
   ]
  },
  {
   "cell_type": "markdown",
   "id": "aaca7056",
   "metadata": {},
   "source": [
    "结果分析: 结合线性回归和岭回归，可以看到回归的预测分数低于线性回归，但是其他泛化效果要比线性回归要好，由于岭回归是一个相对受限的线性模型，所以降低了过拟合现象的发生，对复杂程度低的模型，它的预测结果相对较差，但是泛化能力很好，"
   ]
  },
  {
   "cell_type": "markdown",
   "id": "b980285b",
   "metadata": {},
   "source": [
    "#### 岭回归的参数调节"
   ]
  },
  {
   "cell_type": "markdown",
   "id": "93e01912",
   "metadata": {},
   "source": [
    "岭回归是在模型的简单性(使得系数趋于0)和它在训练集上的性能之间取得平衡的一种模型，可以调节岭回归的alpha参数来控制模型的简单性还是在训练集的能力上， alpha默认值是1；增加alpha的值会降低特征变量的系数，使其趋于0，降低训练集数据得分，得到更好的泛化能力"
   ]
  },
  {
   "cell_type": "code",
   "execution_count": 29,
   "id": "617c77f7",
   "metadata": {},
   "outputs": [
    {
     "name": "stdout",
     "output_type": "stream",
     "text": [
      "岭回归alpha参数=10训练数据集得分:0.43\n",
      "岭回归alpha参数=10测试数据集得分:0.43\n"
     ]
    }
   ],
   "source": [
    "# 增加alpha参数的数值 来看看岭回归的表现\n",
    "ridge10 = Ridge(alpha=10)\n",
    "ridge10.fit(X_train, y_train)\n",
    "print(\"岭回归alpha参数=10训练数据集得分:{:.2f}\".format(ridge.score(X_train,y_train)))\n",
    "print(\"岭回归alpha参数=10测试数据集得分:{:.2f}\".format(ridge.score(X_test,y_test)))"
   ]
  },
  {
   "cell_type": "markdown",
   "id": "cd86b3d8",
   "metadata": {},
   "source": [
    "结果分析: 提高了alpha参数的值后，可以看到模型的得分大幅度的降低了，然而测试数据集的得分高于训练数据集的得分，说明这个模型出现了过拟合的现象"
   ]
  },
  {
   "cell_type": "markdown",
   "id": "a00be26c",
   "metadata": {},
   "source": [
    "如果降低alpha参数值，会出现什么现象呢?"
   ]
  },
  {
   "cell_type": "code",
   "execution_count": 30,
   "id": "b7efed66",
   "metadata": {},
   "outputs": [
    {
     "name": "stdout",
     "output_type": "stream",
     "text": [
      "岭回归alpha参数=10训练数据集得分:0.52\n",
      "岭回归alpha参数=10测试数据集得分:0.47\n"
     ]
    }
   ],
   "source": [
    "# 降低alpha参数的数值 来看看岭回归的表现\n",
    "ridge01 = Ridge(alpha=0.1)\n",
    "ridge01.fit(X_train, y_train)\n",
    "print(\"岭回归alpha参数=10训练数据集得分:{:.2f}\".format(ridge01.score(X_train,y_train)))\n",
    "print(\"岭回归alpha参数=10测试数据集得分:{:.2f}\".format(ridge01.score(X_test,y_test)))"
   ]
  },
  {
   "cell_type": "markdown",
   "id": "c49c1bda",
   "metadata": {},
   "source": [
    "结果分析: 降低alpha参数的值使得模型在训练集的得分比线性回归模型要低一些，但是在测试数据集的得分略高一些"
   ]
  },
  {
   "cell_type": "markdown",
   "id": "89465483",
   "metadata": {},
   "source": [
    "为了更加清晰alpha参数对模型的影响，我们可以用图像来观察不同alpha参数下模型coef_属性的变化，理论上 alpha参数越高，coef_属性的值越小，反之coef_属性值越大"
   ]
  },
  {
   "cell_type": "code",
   "execution_count": 31,
   "id": "f7fa3f04",
   "metadata": {},
   "outputs": [
    {
     "data": {
      "image/png": "[encoded data removed]",
      "text/plain": [
       "<Figure size 432x288 with 1 Axes>"
      ]
     },
     "metadata": {
      "needs_background": "light"
     },
     "output_type": "display_data"
    }
   ],
   "source": [
    "import matplotlib.pyplot as plt\n",
    "lr_coef = lr.coef_\n",
    "ridge_coef = ridge.coef_\n",
    "ridge10_coef = ridge10.coef_\n",
    "ridge01_coef = ridge01.coef_\n",
    "plt.plot(ridge_coef, \"s\")\n",
    "plt.plot(ridge10_coef, \"*\")\n",
    "plt.plot(ridge01_coef, \"v\")\n",
    "plt.plot(lr_coef, \"o\")\n",
    "plt.hlines(0, 0, len(lr_coef))\n",
    "plt.show()"
   ]
  },
  {
   "cell_type": "markdown",
   "id": "4c3414ed",
   "metadata": {},
   "source": [
    "<font color='#990000'>结果分析:</font>横轴代表了coef_属性，横轴每个点依次代表模型的第x个特征变量的系数，纵轴代表特征变量的系数值，上图可以看到alpha参数=10的时候特征变量系数基本接近于0的位置，alpha参数=1的时候，特征变量系数开始增大，当等于0.1的时候特征变量系数更加大了，基本和线性回归重合了，"
   ]
  },
  {
   "cell_type": "markdown",
   "id": "852e299d",
   "metadata": {},
   "source": [
    "另外一个让我们能够更好的理解岭回归模型的方法，就是固定alpha参数的值，然后改变训练数据集的数量；比如在糖尿病数据集中我们使用alpha参数=1的岭回归与线性回归进行比较，**通过绘制一个随数据集大小不断改变的模型评估分析线图，其中的折线也称之为:学习曲线**"
   ]
  },
  {
   "cell_type": "code",
   "execution_count": 32,
   "id": "9e2aadbc",
   "metadata": {},
   "outputs": [
    {
     "data": {
      "image/png": "[encoded data removed]",
      "text/plain": [
       "<Figure size 432x288 with 1 Axes>"
      ]
     },
     "metadata": {
      "needs_background": "light"
     },
     "output_type": "display_data"
    }
   ],
   "source": [
    "from sklearn.model_selection import learning_curve, KFold\n",
    "from sklearn.linear_model import Ridge,LinearRegression\n",
    "import matplotlib.pyplot as plt\n",
    "import numpy as np\n",
    "# 定义一个绘制学习曲线的函数\n",
    "def plot_learning_curve(est, X, y):\n",
    "    # 将数据集进行20次拆分用来对模型进行评分\n",
    "    training_set_size, train_scores, test_scores = learning_curve(est, X, y,train_sizes=np.linspace(.1, 1, 20),\n",
    "                                                                  cv=KFold(20, shuffle=True, random_state=1))\n",
    "    estimator_name=est.__class__.__name__\n",
    "    line = plt.plot(training_set_size, train_scores.mean(axis=1), '--', label='training '+estimator_name)\n",
    "    plt.plot(training_set_size, test_scores.mean(axis=1), '-', label=\"test \"+estimator_name)\n",
    "    plt.ylim(0, 1.1)\n",
    "ridge = Ridge(alpha=1)\n",
    "lr = LinearRegression()\n",
    "plot_learning_curve(ridge, X, y)\n",
    "plot_learning_curve(lr, X, y)\n",
    "plt.legend(loc=(0, 1.05), ncol=2, fontsize=11)\n",
    "plt.show()"
   ]
  },
  {
   "cell_type": "markdown",
   "id": "192f5647",
   "metadata": {},
   "source": [
    "<font color='#990000'>结果分析：</font>无论是在岭回归还是线性回归，训练数据集的得分都比测试数据集得分要高，由于岭回归经过正则化处理，因此他在整个图像中的训练数据集的得分要比线性回归要低，然而岭回归模型中训练集得分与测试数据集的得分之间的差异要小一点，尤其是在数据集规模较小的时候，随着数量集越大，两个模型的表现也越来越好，随着数据集越来越多，正则化就显得不那么重要了，岭回归和线性回归表现基本没有差异；\n",
    "**随着训练数据集的增加，线性回归的得分趋势是下降的，这说明随着数据的增加，线性回归就越不容易出现过拟合的现象，或者说越难记住这些数据**"
   ]
  },
  {
   "cell_type": "markdown",
   "id": "d5bc7f95",
   "metadata": {},
   "source": [
    "### 使用L1正则化的线性模型 - 套索回归 Lasso"
   ]
  },
  {
   "cell_type": "markdown",
   "id": "d238e226",
   "metadata": {},
   "source": [
    "除了岭回归Ridge之外，还有一个对线性回归进行正则化的模型，套索回归 Lasso"
   ]
  },
  {
   "cell_type": "markdown",
   "id": "03dc3a7e",
   "metadata": {},
   "source": [
    "#### 套索回归的原理"
   ]
  },
  {
   "cell_type": "markdown",
   "id": "94741309",
   "metadata": {},
   "source": [
    "和岭回归一样，套索回归也会将系数限制在非常接近0的范围内，但是进行限制的方式略有不同，我们称之为:L1正则化，在进行使用套索回归的时候，有一部分特征变量的系数正好等于0，所以，有一些特征会被忽略掉，也可理解为模型会对一些特征进行自动选择，可以突出一些重要的特征。"
   ]
  },
  {
   "cell_type": "code",
   "execution_count": 33,
   "id": "878fe285",
   "metadata": {},
   "outputs": [
    {
     "name": "stdout",
     "output_type": "stream",
     "text": [
      "套索回归训练数据集得分: 0.36\n",
      "套索回归测试数据集得分:0.37\n",
      "套索回归使用的特征数量:3\n"
     ]
    }
   ],
   "source": [
    "# 还是使用糖尿病数据集 进行观察套索回归模型的表现\n",
    "# 导入套索回归模型\n",
    "from sklearn.linear_model import Lasso\n",
    "import numpy as np\n",
    "# 套索回归模型\n",
    "lasso = Lasso()\n",
    "lasso.fit(X_train, y_train)\n",
    "train_score = lasso.score(X_train, y_train)\n",
    "test_score = lasso.score(X_test, y_test)\n",
    "print(\"套索回归训练数据集得分: {:.2f}\".format(train_score))\n",
    "print(\"套索回归测试数据集得分:{:.2f}\".format(test_score))\n",
    "print(\"套索回归使用的特征数量:{}\".format(np.sum(lasso.coef_ !=0 )))"
   ]
  },
  {
   "cell_type": "markdown",
   "id": "3e182e13",
   "metadata": {},
   "source": [
    "<font color=\"#990000\">结果分析：</font>从训练数据集和测试数据集可以看出，套索回归模型的得分都不是很高，说明模型出现了**欠拟合**现象，数据集里面的10个特征，套索回归只有用到了3个，同时，套索回归也有一个alpha参数来控制特征变量的系数，可以约束到0的强度"
   ]
  },
  {
   "cell_type": "markdown",
   "id": "6833dc97",
   "metadata": {},
   "source": [
    "#### 套索回归的参数调节"
   ]
  },
  {
   "cell_type": "markdown",
   "id": "ee0cfb96",
   "metadata": {},
   "source": [
    "套索回归模型中alpha参数的默认值是1，在这样的情况下模型出现了欠拟合的现象，我们可以通过降低alpha参数的值，以及增加最大迭代次数(max_iter参数)来进行测试一下"
   ]
  },
  {
   "cell_type": "code",
   "execution_count": 34,
   "id": "3338484f",
   "metadata": {},
   "outputs": [
    {
     "name": "stdout",
     "output_type": "stream",
     "text": [
      "套索回归训练数据集得分: 0.52\n",
      "套索回归测试数据集得分:0.48\n",
      "套索回归使用的特征数量:7\n"
     ]
    }
   ],
   "source": [
    "# 增加迭代次数的默认值 max_iter 参数\n",
    "# 否则模型会提示我们增加最大迭代次数\n",
    "from sklearn.linear_model import Lasso\n",
    "lasso01 = Lasso(alpha=0.1, max_iter=100000)\n",
    "lasso01.fit(X_train, y_train)\n",
    "train_score = lasso01.score(X_train, y_train)\n",
    "test_score = lasso01.score(X_test, y_test)\n",
    "print(\"套索回归训练数据集得分: {:.2f}\".format(train_score))\n",
    "print(\"套索回归测试数据集得分:{:.2f}\".format(test_score))\n",
    "print(\"套索回归使用的特征数量:{}\".format(np.sum(lasso01.coef_ !=0 )))"
   ]
  },
  {
   "cell_type": "markdown",
   "id": "161d7c28",
   "metadata": {},
   "source": [
    "<font color=\"#990000\">结果分析: </font>降低了套索回归模型的alpha参数以及增加了最大迭代次数max_iter之后，模型在训练数据集合测试数据集的得分都有很大的提升，而且比岭回归模型的表现也要略好一点，通过特征数量来看，套索回归只用到了10个特征变量里面的7个特征变量。\n",
    "**另外：如果把alpha参数值设置的再低一些，就等于去掉了套索回归的正则化，模型就会和线性回归一样出现过拟合的现象**"
   ]
  },
  {
   "cell_type": "code",
   "execution_count": 35,
   "id": "6dbe274d",
   "metadata": {},
   "outputs": [
    {
     "name": "stdout",
     "output_type": "stream",
     "text": [
      "套索回归训练数据集得分: 0.53\n",
      "套索回归测试数据集得分:0.46\n",
      "套索回归使用的特征数量:10\n"
     ]
    }
   ],
   "source": [
    "# alpha=0.0001\n",
    "from sklearn.linear_model import Lasso\n",
    "lasso0001 = Lasso(alpha=0.0001, max_iter=100000)\n",
    "lasso0001.fit(X_train, y_train)\n",
    "train_score = lasso0001.score(X_train, y_train)\n",
    "test_score = lasso0001.score(X_test, y_test)\n",
    "print(\"套索回归训练数据集得分: {:.2f}\".format(train_score))\n",
    "print(\"套索回归测试数据集得分:{:.2f}\".format(test_score))\n",
    "print(\"套索回归使用的特征数量:{}\".format(np.sum(lasso0001.coef_ !=0 )))"
   ]
  },
  {
   "cell_type": "markdown",
   "id": "463e51f8",
   "metadata": {},
   "source": [
    "<font color=\"#990000\">结果分析: </font>将alpha参数的值设置在0.0001的时候，套索回归模型使用了全部的特征变量，模型出现了过拟合现象，说明降低alpha参数的值会使得套索回归模型出现过拟合的现象"
   ]
  },
  {
   "cell_type": "markdown",
   "id": "880d6842",
   "metadata": {},
   "source": [
    "#### 套索回归和岭回归的对比"
   ]
  },
  {
   "cell_type": "markdown",
   "id": "4f8e12f9",
   "metadata": {},
   "source": [
    "通过绘制不同alpha参数的套索回归和岭回归进行系数对比"
   ]
  },
  {
   "cell_type": "code",
   "execution_count": 36,
   "id": "47f2c61f",
   "metadata": {},
   "outputs": [
    {
     "data": {
      "image/png": "[encoded data removed]",
      "text/plain": [
       "<Figure size 432x288 with 1 Axes>"
      ]
     },
     "metadata": {
      "needs_background": "light"
     },
     "output_type": "display_data"
    }
   ],
   "source": [
    "# 绘制alpha=1的套索回归模型系数\n",
    "plt.plot(lasso.coef_, 's', label=\"lasso alpha=1\")\n",
    "# 绘制 alpha=0.1的套索回归模型系数\n",
    "plt.plot(lasso01.coef_, '^', label=\"lasso alpha=0.1\")\n",
    "# 绘制alpha=0.0001的套索回归模型系数\n",
    "plt.plot(lasso0001.coef_, 'v', label=\"lasso alpha=0.0001\")\n",
    "# 绘制alpha=0.1的岭回归模型系数用来对比\n",
    "plt.plot(ridge01.coef_, 'o', label=\"ridge alpha=1\")\n",
    "plt.legend(ncol=2, loc=(0, 1.05))\n",
    "plt.show()"
   ]
  },
  {
   "cell_type": "markdown",
   "id": "e43d4994",
   "metadata": {},
   "source": [
    "<font color=\"#990000\">结果分析: </font> 从上图可以看出，套索回归模型当alpha参数的值是1的时候，大部分的特征系数为0，其他不为0的特征系数的数值也是非常小，而当alpha的值等于0.1的时候，特征系数的值也有部分是0，但是相比于等于0的情况下要少一些，最后当alpha参数值等于0.0001的时候，可以看出整个模型基本没有被正则化一样，大部分特征系数都不为0，而且特征系数值也变得比较大了。<br>\n",
    "另外，岭回归中alpha参数值等于0.1的时候，和套索回归alpha参数值等于0.1的时候，特征系数值基本一致，但是岭回归中的特征系数值，几乎所有都不等于0<br>\n",
    "在实际应用中，岭回归往往是这两个模型中的优选，但是如果数据集的特征较多，而且只有其中部分特征是重要的话，那么套索回归更加实用，而且更好理解。"
   ]
  },
  {
   "cell_type": "markdown",
   "id": "bb0103f6",
   "metadata": {},
   "source": [
    "## 朴素贝叶斯算法"
   ]
  },
  {
   "cell_type": "markdown",
   "id": "0eb570b9",
   "metadata": {},
   "source": [
    "朴素贝叶斯算法是一种基于**贝叶斯理论**的有监督学习算法。"
   ]
  },
  {
   "cell_type": "markdown",
   "id": "fdd60fc7",
   "metadata": {},
   "source": [
    "### 朴素贝叶斯的基本概念"
   ]
  },
  {
   "cell_type": "markdown",
   "id": "ce59676a",
   "metadata": {},
   "source": [
    "贝叶斯是一位英国数学家，他创立了**贝叶斯统计理论**，该理论对现代概率论和数理统计又有很重要的作用"
   ]
  },
  {
   "cell_type": "markdown",
   "id": "688f6627",
   "metadata": {},
   "source": [
    "#### 贝叶斯定理"
   ]
  },
  {
   "cell_type": "markdown",
   "id": "c658a648",
   "metadata": {},
   "source": [
    "贝叶斯定理是关于随机事件A和B的条件概率（或边缘概率）的一则定理。<br>\n",
    "公式:<br>\n",
    "$P(A_i|B) = \\frac{P(B|A_i)P(A_i)}{\\sum_jP(B|A_j)P(A_j)}$<br>\n",
    "其中P(A|B)是在B发生的情况下A发生的可能性。"
   ]
  },
  {
   "cell_type": "code",
   "execution_count": null,
   "id": "46f67d7a",
   "metadata": {},
   "outputs": [],
   "source": []
  }
 ],
 "metadata": {
  "kernelspec": {
   "display_name": "Python 3 (ipykernel)",
   "language": "python",
   "name": "python3"
  },
  "language_info": {
   "codemirror_mode": {
    "name": "ipython",
    "version": 3
   },
   "file_extension": ".py",
   "mimetype": "text/x-python",
   "name": "python",
   "nbconvert_exporter": "python",
   "pygments_lexer": "ipython3",
   "version": "3.8.6"
  },
  "toc": {
   "base_numbering": 1,
   "nav_menu": {},
   "number_sections": true,
   "sideBar": true,
   "skip_h1_title": true,
   "title_cell": "深入浅出Python机器学习",
   "title_sidebar": "Contents",
   "toc_cell": true,
   "toc_position": {
    "height": "388.571px",
    "left": "24px",
    "top": "110.133px",
    "width": "164.985px"
   },
   "toc_section_display": true,
   "toc_window_display": true
  }
 },
 "nbformat": 4,
 "nbformat_minor": 5
}
